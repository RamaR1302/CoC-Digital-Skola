{
  "nbformat": 4,
  "nbformat_minor": 0,
  "metadata": {
    "colab": {
      "name": "Rama Rossali Homework 3 - Introduction and Basic Dataframe .ipynb",
      "provenance": [],
      "collapsed_sections": []
    },
    "kernelspec": {
      "name": "python3",
      "display_name": "Python 3"
    },
    "language_info": {
      "name": "python"
    }
  },
  "cells": [
    {
      "cell_type": "code",
      "metadata": {
        "id": "yi3k6xU-IZaj"
      },
      "source": [
        "import pandas as pd, numpy as np"
      ],
      "execution_count": null,
      "outputs": []
    },
    {
      "cell_type": "code",
      "metadata": {
        "id": "o2Ps_YBWIbJg"
      },
      "source": [
        "import pandas as pd\n",
        "import numpy as np"
      ],
      "execution_count": null,
      "outputs": []
    },
    {
      "cell_type": "markdown",
      "metadata": {
        "id": "1o1hTscLJKWw"
      },
      "source": [
        "##Mahasiswa Jurusan Statistika##\n"
      ]
    },
    {
      "cell_type": "code",
      "metadata": {
        "colab": {
          "base_uri": "https://localhost:8080/",
          "height": 359
        },
        "id": "gXu0JCHmEkve",
        "outputId": "dee550ba-6e10-45fe-97cd-3b292c519f47"
      },
      "source": [
        "Id_Mhs = [201643500703, 201643500700, 201643500715, 201643500723, 201643500700, 201643500730, 201643500733, 210643500743, 201643500745, 201643500757]\n",
        "Nama = ['Rama', 'Rossali', 'Ilham', 'Bayu', 'Bambang', 'Allivia', 'Aldila', ' Sri', 'Riyan', 'Tresna']\n",
        "Mata_Kuliah = ['Kalkulus', 'Metode Numerik', 'Statistika Multivariat', 'Analisa Regresi', 'Teknik Simulasi', 'Analisa Regresi', 'Statistika Nonparametrik', 'Metode Numerik', 'Kalkulus', 'Survey Sampel']\n",
        "Nilai = [90, 80, 70, 60, 65, 78, 89, 75, 66, 60]\n",
        "\n",
        "Mhs_Statistika = {\n",
        "    'Id_Mhs': Id_Mhs,\n",
        "    'Nama': Nama,\n",
        "    'Mata_Kuliah': Mata_Kuliah,\n",
        "    'Nilai': Nilai\n",
        "}\n",
        "df = pd.DataFrame(Mhs_Statistika)\n",
        "df"
      ],
      "execution_count": null,
      "outputs": [
        {
          "output_type": "execute_result",
          "data": {
            "text/html": [
              "<div>\n",
              "<style scoped>\n",
              "    .dataframe tbody tr th:only-of-type {\n",
              "        vertical-align: middle;\n",
              "    }\n",
              "\n",
              "    .dataframe tbody tr th {\n",
              "        vertical-align: top;\n",
              "    }\n",
              "\n",
              "    .dataframe thead th {\n",
              "        text-align: right;\n",
              "    }\n",
              "</style>\n",
              "<table border=\"1\" class=\"dataframe\">\n",
              "  <thead>\n",
              "    <tr style=\"text-align: right;\">\n",
              "      <th></th>\n",
              "      <th>Id_Mhs</th>\n",
              "      <th>Nama</th>\n",
              "      <th>Mata_Kuliah</th>\n",
              "      <th>Nilai</th>\n",
              "    </tr>\n",
              "  </thead>\n",
              "  <tbody>\n",
              "    <tr>\n",
              "      <th>0</th>\n",
              "      <td>201643500703</td>\n",
              "      <td>Rama</td>\n",
              "      <td>Kalkulus</td>\n",
              "      <td>90</td>\n",
              "    </tr>\n",
              "    <tr>\n",
              "      <th>1</th>\n",
              "      <td>201643500700</td>\n",
              "      <td>Rossali</td>\n",
              "      <td>Metode Numerik</td>\n",
              "      <td>80</td>\n",
              "    </tr>\n",
              "    <tr>\n",
              "      <th>2</th>\n",
              "      <td>201643500715</td>\n",
              "      <td>Ilham</td>\n",
              "      <td>Statistika Multivariat</td>\n",
              "      <td>70</td>\n",
              "    </tr>\n",
              "    <tr>\n",
              "      <th>3</th>\n",
              "      <td>201643500723</td>\n",
              "      <td>Bayu</td>\n",
              "      <td>Analisa Regresi</td>\n",
              "      <td>60</td>\n",
              "    </tr>\n",
              "    <tr>\n",
              "      <th>4</th>\n",
              "      <td>201643500700</td>\n",
              "      <td>Bambang</td>\n",
              "      <td>Teknik Simulasi</td>\n",
              "      <td>65</td>\n",
              "    </tr>\n",
              "    <tr>\n",
              "      <th>5</th>\n",
              "      <td>201643500730</td>\n",
              "      <td>Allivia</td>\n",
              "      <td>Analisa Regresi</td>\n",
              "      <td>78</td>\n",
              "    </tr>\n",
              "    <tr>\n",
              "      <th>6</th>\n",
              "      <td>201643500733</td>\n",
              "      <td>Aldila</td>\n",
              "      <td>Statistika Nonparametrik</td>\n",
              "      <td>89</td>\n",
              "    </tr>\n",
              "    <tr>\n",
              "      <th>7</th>\n",
              "      <td>210643500743</td>\n",
              "      <td>Sri</td>\n",
              "      <td>Metode Numerik</td>\n",
              "      <td>75</td>\n",
              "    </tr>\n",
              "    <tr>\n",
              "      <th>8</th>\n",
              "      <td>201643500745</td>\n",
              "      <td>Riyan</td>\n",
              "      <td>Kalkulus</td>\n",
              "      <td>66</td>\n",
              "    </tr>\n",
              "    <tr>\n",
              "      <th>9</th>\n",
              "      <td>201643500757</td>\n",
              "      <td>Tresna</td>\n",
              "      <td>Survey Sampel</td>\n",
              "      <td>60</td>\n",
              "    </tr>\n",
              "  </tbody>\n",
              "</table>\n",
              "</div>"
            ],
            "text/plain": [
              "         Id_Mhs     Nama               Mata_Kuliah  Nilai\n",
              "0  201643500703     Rama                  Kalkulus     90\n",
              "1  201643500700  Rossali            Metode Numerik     80\n",
              "2  201643500715    Ilham    Statistika Multivariat     70\n",
              "3  201643500723     Bayu           Analisa Regresi     60\n",
              "4  201643500700  Bambang           Teknik Simulasi     65\n",
              "5  201643500730  Allivia           Analisa Regresi     78\n",
              "6  201643500733   Aldila  Statistika Nonparametrik     89\n",
              "7  210643500743      Sri            Metode Numerik     75\n",
              "8  201643500745    Riyan                  Kalkulus     66\n",
              "9  201643500757   Tresna             Survey Sampel     60"
            ]
          },
          "metadata": {
            "tags": []
          },
          "execution_count": 7
        }
      ]
    },
    {
      "cell_type": "markdown",
      "metadata": {
        "id": "aHie44LdJjKf"
      },
      "source": [
        "##Informasi Hewan di Kebun Binatang##"
      ]
    },
    {
      "cell_type": "code",
      "metadata": {
        "colab": {
          "base_uri": "https://localhost:8080/",
          "height": 359
        },
        "id": "Iu8g8JgeJuwe",
        "outputId": "728fb300-e8f3-4656-8916-ef531a825080"
      },
      "source": [
        "Jenis_Hewan = tuple(['Jerapah', 'Gajah', 'Buaya', 'Lemur', 'Caracal', 'Serval', 'Otter', 'Singa', 'Kuda Nil', 'Panda'])\n",
        "Nama_Panggilan = tuple(['Melman','Giant','Rizal','King Julien', 'Uma','Muezza', 'Jotaro', 'Alex', 'Gloria', 'Po'])\n",
        "Kapan_Dilahirkan = tuple(['2016-03-03', '2015-05-12', '2017-10-20', '2019-07-30', '2020-12-12', '2020-01-19', '2021-02-13', '2017-08-15', '2018-06-06', '2014-09-16'])\n",
        "Usia = tuple(['5 Tahun 3 Bulan', '6 Tahun 1 Bulan', '4 Tahun 8 Bulan', '1 Tahun 11 Bulan', '6 Bulan', '5 Bulan', '4 Bulan', '3 Tahun 10 Bulan', '3 Tahun', '6 Tahun 9 Bulan'])\n",
        "Jenis_Kelamin = tuple(['Jantan', 'Betina', 'Betina', 'Jantan', 'Jantan', 'Betina', 'Betina','Betina', 'Jantan','Jantan'])\n",
        "df4 = pd.DataFrame([Jenis_Hewan, Nama_Panggilan, Kapan_Dilahirkan, Usia, Jenis_Kelamin ]).T\n",
        "df4"
      ],
      "execution_count": null,
      "outputs": [
        {
          "output_type": "execute_result",
          "data": {
            "text/html": [
              "<div>\n",
              "<style scoped>\n",
              "    .dataframe tbody tr th:only-of-type {\n",
              "        vertical-align: middle;\n",
              "    }\n",
              "\n",
              "    .dataframe tbody tr th {\n",
              "        vertical-align: top;\n",
              "    }\n",
              "\n",
              "    .dataframe thead th {\n",
              "        text-align: right;\n",
              "    }\n",
              "</style>\n",
              "<table border=\"1\" class=\"dataframe\">\n",
              "  <thead>\n",
              "    <tr style=\"text-align: right;\">\n",
              "      <th></th>\n",
              "      <th>0</th>\n",
              "      <th>1</th>\n",
              "      <th>2</th>\n",
              "      <th>3</th>\n",
              "      <th>4</th>\n",
              "    </tr>\n",
              "  </thead>\n",
              "  <tbody>\n",
              "    <tr>\n",
              "      <th>0</th>\n",
              "      <td>Jerapah</td>\n",
              "      <td>Melman</td>\n",
              "      <td>2016-03-03</td>\n",
              "      <td>5 Tahun 3 Bulan</td>\n",
              "      <td>Jantan</td>\n",
              "    </tr>\n",
              "    <tr>\n",
              "      <th>1</th>\n",
              "      <td>Gajah</td>\n",
              "      <td>Giant</td>\n",
              "      <td>2015-05-12</td>\n",
              "      <td>6 Tahun 1 Bulan</td>\n",
              "      <td>Betina</td>\n",
              "    </tr>\n",
              "    <tr>\n",
              "      <th>2</th>\n",
              "      <td>Buaya</td>\n",
              "      <td>Rizal</td>\n",
              "      <td>2017-10-20</td>\n",
              "      <td>4 Tahun 8 Bulan</td>\n",
              "      <td>Betina</td>\n",
              "    </tr>\n",
              "    <tr>\n",
              "      <th>3</th>\n",
              "      <td>Lemur</td>\n",
              "      <td>King Julien</td>\n",
              "      <td>2019-07-30</td>\n",
              "      <td>1 Tahun 11 Bulan</td>\n",
              "      <td>Jantan</td>\n",
              "    </tr>\n",
              "    <tr>\n",
              "      <th>4</th>\n",
              "      <td>Caracal</td>\n",
              "      <td>Uma</td>\n",
              "      <td>2020-12-12</td>\n",
              "      <td>6 Bulan</td>\n",
              "      <td>Jantan</td>\n",
              "    </tr>\n",
              "    <tr>\n",
              "      <th>5</th>\n",
              "      <td>Serval</td>\n",
              "      <td>Muezza</td>\n",
              "      <td>2020-01-19</td>\n",
              "      <td>5 Bulan</td>\n",
              "      <td>Betina</td>\n",
              "    </tr>\n",
              "    <tr>\n",
              "      <th>6</th>\n",
              "      <td>Otter</td>\n",
              "      <td>Jotaro</td>\n",
              "      <td>2021-02-13</td>\n",
              "      <td>4 Bulan</td>\n",
              "      <td>Betina</td>\n",
              "    </tr>\n",
              "    <tr>\n",
              "      <th>7</th>\n",
              "      <td>Singa</td>\n",
              "      <td>Alex</td>\n",
              "      <td>2017-08-15</td>\n",
              "      <td>3 Tahun 10 Bulan</td>\n",
              "      <td>Betina</td>\n",
              "    </tr>\n",
              "    <tr>\n",
              "      <th>8</th>\n",
              "      <td>Kuda Nil</td>\n",
              "      <td>Gloria</td>\n",
              "      <td>2018-06-06</td>\n",
              "      <td>3 Tahun</td>\n",
              "      <td>Jantan</td>\n",
              "    </tr>\n",
              "    <tr>\n",
              "      <th>9</th>\n",
              "      <td>Panda</td>\n",
              "      <td>Po</td>\n",
              "      <td>2014-09-16</td>\n",
              "      <td>6 Tahun 9 Bulan</td>\n",
              "      <td>Jantan</td>\n",
              "    </tr>\n",
              "  </tbody>\n",
              "</table>\n",
              "</div>"
            ],
            "text/plain": [
              "          0            1           2                 3       4\n",
              "0   Jerapah       Melman  2016-03-03   5 Tahun 3 Bulan  Jantan\n",
              "1     Gajah        Giant  2015-05-12   6 Tahun 1 Bulan  Betina\n",
              "2     Buaya        Rizal  2017-10-20   4 Tahun 8 Bulan  Betina\n",
              "3     Lemur  King Julien  2019-07-30  1 Tahun 11 Bulan  Jantan\n",
              "4   Caracal          Uma  2020-12-12           6 Bulan  Jantan\n",
              "5    Serval       Muezza  2020-01-19           5 Bulan  Betina\n",
              "6     Otter       Jotaro  2021-02-13           4 Bulan  Betina\n",
              "7     Singa         Alex  2017-08-15  3 Tahun 10 Bulan  Betina\n",
              "8  Kuda Nil       Gloria  2018-06-06           3 Tahun  Jantan\n",
              "9     Panda           Po  2014-09-16   6 Tahun 9 Bulan  Jantan"
            ]
          },
          "metadata": {
            "tags": []
          },
          "execution_count": 20
        }
      ]
    }
  ]
}