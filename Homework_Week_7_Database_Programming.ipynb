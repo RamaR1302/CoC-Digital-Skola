{
  "nbformat": 4,
  "nbformat_minor": 0,
  "metadata": {
    "colab": {
      "name": "Rama Rossali Homework 1 - Database Programming",
      "provenance": [],
      "collapsed_sections": [],
      "toc_visible": true
    },
    "kernelspec": {
      "display_name": "Python 3",
      "language": "python",
      "name": "python3"
    },
    "language_info": {
      "codemirror_mode": {
        "name": "ipython",
        "version": 3
      },
      "file_extension": ".py",
      "mimetype": "text/x-python",
      "name": "python",
      "nbconvert_exporter": "python",
      "pygments_lexer": "ipython3",
      "version": "3.7.6"
    }
  },
  "cells": [
    {
      "cell_type": "markdown",
      "metadata": {
        "id": "dD1N7V371Tfp"
      },
      "source": [
        ""
      ]
    },
    {
      "cell_type": "markdown",
      "metadata": {
        "id": "kYSiqZo5PPzL"
      },
      "source": [
        "#**Karakter Escape Python**"
      ]
    },
    {
      "cell_type": "code",
      "metadata": {
        "id": "8aSx34e7UY_J"
      },
      "source": [
        "#Notasi Backslash\t\t\n",
        "#\\a\t\tAppend\n",
        "#\\b\t\tBackspace\n",
        "#\\cx\t \tControl-x\n",
        "#\\C-x\t \tControl-x\n",
        "#\\e\t\tEscape\n",
        "#\\f\t\tFormfeed\n",
        "#\\M-\\C-\t \tMeta-Control-x\n",
        "#\\n\t\tNewline\n",
        "#\\nnn\t \tOctal notation, dimana n berada di range 0.7\n",
        "#\\r\t\tCarriage return\n",
        "#\\s\t\tSpace\n",
        "#\\t\t\tTab\n",
        "#\\v\t\tVertical tab\n",
        "#\\x\t \tCharacter x\n",
        "#\\xnn\t \tNotasi Hexadecimal, dimana n berada di range 0. 9, a.f, atau A.F"
      ],
      "execution_count": null,
      "outputs": []
    },
    {
      "cell_type": "markdown",
      "metadata": {
        "id": "rDuIlmD1bEvV"
      },
      "source": [
        "# **Write and Read File in Python**"
      ]
    },
    {
      "cell_type": "code",
      "metadata": {
        "id": "4Rl18biebNEg"
      },
      "source": [
        "import os"
      ],
      "execution_count": null,
      "outputs": []
    },
    {
      "cell_type": "code",
      "metadata": {
        "colab": {
          "base_uri": "https://localhost:8080/"
        },
        "id": "GGwTgUBgtYtg",
        "outputId": "5c647146-1e1c-4f89-b64a-f7b6e5f873fa"
      },
      "source": [
        "print(os.getcwd())"
      ],
      "execution_count": null,
      "outputs": [
        {
          "output_type": "stream",
          "text": [
            "/content\n"
          ],
          "name": "stdout"
        }
      ]
    },
    {
      "cell_type": "code",
      "metadata": {
        "id": "2CJkIKr7bbVy",
        "colab": {
          "base_uri": "https://localhost:8080/"
        },
        "outputId": "2376b8e9-d38f-4d2c-ee02-4e41f65271a0"
      },
      "source": [
        "writefile = open('example.txt','w') #pembuatan file example.txt\n",
        "writefile.write(\"Welcome to Digital Skola\") #penginputan kedalam file \"example.txt\"\n",
        "writefile.close()\n",
        "readfile = open('example.txt','r') #membuka/ memanggil file \"example.txt\"\n",
        "print(readfile.read()) # membuka/memanggil isi dari file \"example.txt\"\n",
        "readfile.close()"
      ],
      "execution_count": null,
      "outputs": [
        {
          "output_type": "stream",
          "text": [
            "Welcome to Digital Skola\n"
          ],
          "name": "stdout"
        }
      ]
    },
    {
      "cell_type": "code",
      "metadata": {
        "id": "H5XuHsBvcgdt"
      },
      "source": [
        "with open('example.txt','w') as writefile:\n",
        "  writefile.write('Ini baris 1\\n')\n",
        "  writefile.write('Ini baris 2\\n')\n",
        "  writefile.write('Ini baris 3\\n')\n",
        "  writefile.write('Ini baris 4\\n')"
      ],
      "execution_count": null,
      "outputs": []
    },
    {
      "cell_type": "code",
      "metadata": {
        "colab": {
          "base_uri": "https://localhost:8080/"
        },
        "id": "JPPkEPDUc9Aq",
        "outputId": "28341f82-2502-4724-ef13-57352c56bd54"
      },
      "source": [
        "with open('example.txt','r') as readfile:\n",
        "  print(readfile.read())"
      ],
      "execution_count": null,
      "outputs": [
        {
          "output_type": "stream",
          "text": [
            "Ini baris 1\n",
            "Ini baris 2\n",
            "Ini baris 3\n",
            "Ini baris 4\n",
            "\n"
          ],
          "name": "stdout"
        }
      ]
    },
    {
      "cell_type": "code",
      "metadata": {
        "id": "3qgtk6Cuc_Gq"
      },
      "source": [
        "with open('example.txt','a') as appendfile: #a adalah appendfile yang berfungsi menambahkan item dari belakang.\n",
        "  appendfile.write('Ini baris 5\\n')"
      ],
      "execution_count": null,
      "outputs": []
    },
    {
      "cell_type": "code",
      "metadata": {
        "colab": {
          "base_uri": "https://localhost:8080/"
        },
        "id": "Lo-XpmsQuq59",
        "outputId": "9ce46b19-a7c2-405a-bb9a-c3765604c32c"
      },
      "source": [
        "with open('example.txt','r') as readfile:\n",
        "  print(readfile.read())"
      ],
      "execution_count": null,
      "outputs": [
        {
          "output_type": "stream",
          "text": [
            "Ini baris 1\n",
            "Ini baris 2\n",
            "Ini baris 3\n",
            "Ini baris 4\n",
            "Ini baris 5\n",
            "Ini baris 5\n",
            "Ini baris 5\n",
            "\n"
          ],
          "name": "stdout"
        }
      ]
    },
    {
      "cell_type": "markdown",
      "metadata": {
        "id": "KFU7fZ75kq5k"
      },
      "source": [
        "# **Database Connection**"
      ]
    },
    {
      "cell_type": "code",
      "metadata": {
        "colab": {
          "base_uri": "https://localhost:8080/"
        },
        "id": "96MTsUg1kuP1",
        "outputId": "89333f3b-a6c8-423f-a9cd-51ce525c914f"
      },
      "source": [
        "!pip install psycopg2 # psycopg2 adalah database adaptor PostgreSQL untuk bahasa pemrograman Python."
      ],
      "execution_count": null,
      "outputs": [
        {
          "output_type": "stream",
          "text": [
            "Requirement already satisfied: psycopg2 in /usr/local/lib/python3.7/dist-packages (2.7.6.1)\n"
          ],
          "name": "stdout"
        }
      ]
    },
    {
      "cell_type": "code",
      "metadata": {
        "id": "geYpOQQdk2C8",
        "colab": {
          "base_uri": "https://localhost:8080/"
        },
        "outputId": "ddbb292b-f682-472a-fb97-0cf80b812deb"
      },
      "source": [
        "import psycopg2 \n",
        "\n",
        "\n",
        "#mengkoneksikan degan database yang ada\n",
        "conn = psycopg2.connect( #conn(): This function is used for establishing a connection with the MySQL server. The following are the arguments that are used to initiate a connection:\n",
        "        host = \"digitalskoladb.c04me33o8tni.ap-southeast-1.rds.amazonaws.com\",\n",
        "        port = 5432,\n",
        "        database= \"sandbox\", #Basis data di PostgreSQL untuk membuat Tabel\n",
        "        user = \"group_a\", #Nama pengguna yang terkait dengan server MySQL yang digunakan untuk mengotentikasi koneksi\n",
        "        password = \"hZrJQJ8RMttts9VZnUYZX93pr\")  #Kata sandi yang terkait dengan nama pengguna untuk otentikasi\n",
        "\n",
        "#membuat objek menggunakan metode kursor\n",
        "cursor = conn.cursor() #Kursor adalah ruang kerja yang dibuat dalam memori sistem ketika perintah SQL dijalankan. \n",
        "                       #Memori ini bersifat sementara dan koneksi kursor dibatasi untuk seluruh sesi/seumur hidup dan perintah dijalankan"
      ],
      "execution_count": null,
      "outputs": [
        {
          "output_type": "stream",
          "text": [
            "/usr/local/lib/python3.7/dist-packages/psycopg2/__init__.py:144: UserWarning: The psycopg2 wheel package will be renamed from release 2.8; in order to keep installing from binary please use \"pip install psycopg2-binary\" instead. For details see: <http://initd.org/psycopg/docs/install.html#binary-install-from-pypi>.\n",
            "  \"\"\")\n"
          ],
          "name": "stderr"
        }
      ]
    },
    {
      "cell_type": "markdown",
      "metadata": {
        "id": "SmSTTlbnmJTa"
      },
      "source": [
        "# **Create Table**"
      ]
    },
    {
      "cell_type": "code",
      "metadata": {
        "colab": {
          "base_uri": "https://localhost:8080/"
        },
        "id": "EqrffDR0k43B",
        "outputId": "5d3f2516-5144-4b9a-9fd3-201a420e7cc5"
      },
      "source": [
        "conn = psycopg2.connect(\n",
        "        host = \"digitalskoladb.c04me33o8tni.ap-southeast-1.rds.amazonaws.com\",\n",
        "        port = 5432,\n",
        "        database= \"sandbox\",\n",
        "        user = \"group_a\",\n",
        "        password = \"hZrJQJ8RMttts9VZnUYZX93pr\")\n",
        "\n",
        "cursor = conn.cursor()\n",
        "\n",
        "cursor.execute(\"DROP TABLE IF EXISTS sandbox.batch_2.bus\")\n",
        "\n",
        "sql = '''\n",
        "      create table sandbox.batch_2.bus (\n",
        "      id int,\n",
        "      origin varchar,\n",
        "      destination varchar,\n",
        "      time time\n",
        ")'''\n",
        "\n",
        "cursor.execute(sql)\n",
        "print(\"Table created successfully..\")\n",
        "\n",
        "conn.commit()\n",
        "\n",
        "conn.close()"
      ],
      "execution_count": null,
      "outputs": [
        {
          "output_type": "stream",
          "text": [
            "Table created successfully..\n"
          ],
          "name": "stdout"
        }
      ]
    },
    {
      "cell_type": "markdown",
      "metadata": {
        "id": "0IlAkV-Mnhgk"
      },
      "source": [
        "# **Insert Data**"
      ]
    },
    {
      "cell_type": "code",
      "metadata": {
        "colab": {
          "base_uri": "https://localhost:8080/"
        },
        "id": "yMriXKQTm3Rz",
        "outputId": "7db83062-479c-4a62-eb8b-7dc8fad201a0"
      },
      "source": [
        "conn = psycopg2.connect(\n",
        "        host = \"digitalskoladb.c04me33o8tni.ap-southeast-1.rds.amazonaws.com\",\n",
        "        port = 5432,\n",
        "        database= \"sandbox\",\n",
        "        user = \"group_a\",\n",
        "        password = \"hZrJQJ8RMttts9VZnUYZX93pr\")\n",
        "\n",
        "\n",
        "cursor = conn.cursor()\n",
        "\n",
        "sql ='''insert into sandbox.batch_2.bus values  \n",
        "        (100, 'Jakarta', 'Bandung', '10:00'),\n",
        "        (200, 'Jakarta', 'Palembang', '11:00'),\n",
        "        (300, 'Jakarta', 'Jogja', '12:00')''' #menginput data kedalam table\n",
        "\n",
        "cursor.execute(sql)\n",
        "\n",
        "conn.commit() #fuction postgreeSQL mengakhiri semua transaksi dan menjadikannya sebagai perubahan permanen.\n",
        "print(\"Data inserted successfully..\")\n",
        "\n",
        "conn.close()"
      ],
      "execution_count": null,
      "outputs": [
        {
          "output_type": "stream",
          "text": [
            "Data inserted successfully..\n"
          ],
          "name": "stdout"
        }
      ]
    },
    {
      "cell_type": "markdown",
      "metadata": {
        "id": "oOTsRx8rq_jm"
      },
      "source": [
        "# **Select Data**"
      ]
    },
    {
      "cell_type": "code",
      "metadata": {
        "colab": {
          "base_uri": "https://localhost:8080/"
        },
        "id": "vlGIWSQ8oIyc",
        "outputId": "8709d861-4efd-4ed8-9b4e-7a4bcc6501f0"
      },
      "source": [
        "conn = psycopg2.connect(\n",
        "        host = \"digitalskoladb.c04me33o8tni.ap-southeast-1.rds.amazonaws.com\",\n",
        "        port = 5432,\n",
        "        database= \"sandbox\",\n",
        "        user = \"group_a\",\n",
        "        password = \"hZrJQJ8RMttts9VZnUYZX93pr\")\n",
        "\n",
        "\n",
        "cursor = conn.cursor()\n",
        "\n",
        "sql ='''select * from sandbox.batch_2.bus'''\n",
        "\n",
        "cursor.execute(sql)\n",
        "\n",
        "result = cursor.fetchall(); #mengembalikan set hasil yang berisi sebuah array dari semua lini yang tersisa.\n",
        "print(result)\n",
        "\n",
        "conn.commit()\n",
        "\n",
        "conn.close()"
      ],
      "execution_count": null,
      "outputs": [
        {
          "output_type": "stream",
          "text": [
            "[(100, 'Jakarta', 'Bandung', datetime.time(10, 0)), (200, 'Jakarta', 'Palembang', datetime.time(11, 0)), (300, 'Jakarta', 'Jogja', datetime.time(12, 0))]\n"
          ],
          "name": "stdout"
        }
      ]
    },
    {
      "cell_type": "markdown",
      "metadata": {
        "id": "Vh82RLcUr3iL"
      },
      "source": [
        "Or We can select data using pandas"
      ]
    },
    {
      "cell_type": "code",
      "metadata": {
        "id": "N7oQBpbOrbM4"
      },
      "source": [
        "import pandas as pd"
      ],
      "execution_count": null,
      "outputs": []
    },
    {
      "cell_type": "code",
      "metadata": {
        "id": "Eg_tv1v0sArp"
      },
      "source": [
        "conn = psycopg2.connect(\n",
        "        host = \"digitalskoladb.c04me33o8tni.ap-southeast-1.rds.amazonaws.com\",\n",
        "        port = 5432,\n",
        "        database= \"sandbox\",\n",
        "        user = \"group_a\",\n",
        "        password = \"hZrJQJ8RMttts9VZnUYZX93pr\")\n"
      ],
      "execution_count": null,
      "outputs": []
    },
    {
      "cell_type": "code",
      "metadata": {
        "id": "YUfyJaxls3Mq"
      },
      "source": [
        "sql_statement = '''\n",
        "      select * \n",
        "      from sandbox.datasource.employees e\n",
        "      join sandbox.datasource.departments d on e.department_id = d.department_id\n",
        "'''"
      ],
      "execution_count": null,
      "outputs": []
    },
    {
      "cell_type": "code",
      "metadata": {
        "id": "eHS9oJq5sLav"
      },
      "source": [
        "df = pd.read_sql(sql_statement, con=conn)"
      ],
      "execution_count": null,
      "outputs": []
    },
    {
      "cell_type": "code",
      "metadata": {
        "colab": {
          "base_uri": "https://localhost:8080/",
          "height": 224
        },
        "id": "NhBCid6EsSt0",
        "outputId": "c3b76260-dfd8-4ba4-e2c8-1e81320ba69e"
      },
      "source": [
        "df.head()"
      ],
      "execution_count": null,
      "outputs": [
        {
          "output_type": "execute_result",
          "data": {
            "text/html": [
              "<div>\n",
              "<style scoped>\n",
              "    .dataframe tbody tr th:only-of-type {\n",
              "        vertical-align: middle;\n",
              "    }\n",
              "\n",
              "    .dataframe tbody tr th {\n",
              "        vertical-align: top;\n",
              "    }\n",
              "\n",
              "    .dataframe thead th {\n",
              "        text-align: right;\n",
              "    }\n",
              "</style>\n",
              "<table border=\"1\" class=\"dataframe\">\n",
              "  <thead>\n",
              "    <tr style=\"text-align: right;\">\n",
              "      <th></th>\n",
              "      <th>employee_id</th>\n",
              "      <th>first_name</th>\n",
              "      <th>last_name</th>\n",
              "      <th>email</th>\n",
              "      <th>phone_number</th>\n",
              "      <th>hire_date</th>\n",
              "      <th>job_id</th>\n",
              "      <th>salary</th>\n",
              "      <th>commission_pct</th>\n",
              "      <th>manager_id</th>\n",
              "      <th>department_id</th>\n",
              "      <th>department_id</th>\n",
              "      <th>department_name</th>\n",
              "      <th>manager_id</th>\n",
              "      <th>location_id</th>\n",
              "    </tr>\n",
              "  </thead>\n",
              "  <tbody>\n",
              "    <tr>\n",
              "      <th>0</th>\n",
              "      <td>100.0</td>\n",
              "      <td>Steven</td>\n",
              "      <td>King</td>\n",
              "      <td>SKING</td>\n",
              "      <td>515.123.4567</td>\n",
              "      <td>1987-06-17</td>\n",
              "      <td>AD_PRES</td>\n",
              "      <td>24000.0</td>\n",
              "      <td>0.0</td>\n",
              "      <td>0.0</td>\n",
              "      <td>90.0</td>\n",
              "      <td>90.0</td>\n",
              "      <td>Executive</td>\n",
              "      <td>100.0</td>\n",
              "      <td>1700.0</td>\n",
              "    </tr>\n",
              "    <tr>\n",
              "      <th>1</th>\n",
              "      <td>101.0</td>\n",
              "      <td>Neena</td>\n",
              "      <td>Kochhar</td>\n",
              "      <td>NKOCHHAR</td>\n",
              "      <td>515.123.4568</td>\n",
              "      <td>1987-06-18</td>\n",
              "      <td>AD_VP</td>\n",
              "      <td>17000.0</td>\n",
              "      <td>0.0</td>\n",
              "      <td>100.0</td>\n",
              "      <td>90.0</td>\n",
              "      <td>90.0</td>\n",
              "      <td>Executive</td>\n",
              "      <td>100.0</td>\n",
              "      <td>1700.0</td>\n",
              "    </tr>\n",
              "    <tr>\n",
              "      <th>2</th>\n",
              "      <td>102.0</td>\n",
              "      <td>Lex</td>\n",
              "      <td>De Haan</td>\n",
              "      <td>LDEHAAN</td>\n",
              "      <td>515.123.4569</td>\n",
              "      <td>1987-06-19</td>\n",
              "      <td>AD_VP</td>\n",
              "      <td>17000.0</td>\n",
              "      <td>0.0</td>\n",
              "      <td>100.0</td>\n",
              "      <td>90.0</td>\n",
              "      <td>90.0</td>\n",
              "      <td>Executive</td>\n",
              "      <td>100.0</td>\n",
              "      <td>1700.0</td>\n",
              "    </tr>\n",
              "    <tr>\n",
              "      <th>3</th>\n",
              "      <td>103.0</td>\n",
              "      <td>Alexander</td>\n",
              "      <td>Hunold</td>\n",
              "      <td>AHUNOLD</td>\n",
              "      <td>590.423.4567</td>\n",
              "      <td>1987-06-20</td>\n",
              "      <td>IT_PROG</td>\n",
              "      <td>9000.0</td>\n",
              "      <td>0.0</td>\n",
              "      <td>102.0</td>\n",
              "      <td>60.0</td>\n",
              "      <td>60.0</td>\n",
              "      <td>IT</td>\n",
              "      <td>103.0</td>\n",
              "      <td>1400.0</td>\n",
              "    </tr>\n",
              "    <tr>\n",
              "      <th>4</th>\n",
              "      <td>104.0</td>\n",
              "      <td>Bruce</td>\n",
              "      <td>Ernst</td>\n",
              "      <td>BERNST</td>\n",
              "      <td>590.423.4568</td>\n",
              "      <td>1987-06-21</td>\n",
              "      <td>IT_PROG</td>\n",
              "      <td>6000.0</td>\n",
              "      <td>0.0</td>\n",
              "      <td>103.0</td>\n",
              "      <td>60.0</td>\n",
              "      <td>60.0</td>\n",
              "      <td>IT</td>\n",
              "      <td>103.0</td>\n",
              "      <td>1400.0</td>\n",
              "    </tr>\n",
              "  </tbody>\n",
              "</table>\n",
              "</div>"
            ],
            "text/plain": [
              "   employee_id first_name last_name  ... department_name manager_id location_id\n",
              "0        100.0     Steven      King  ...       Executive      100.0      1700.0\n",
              "1        101.0      Neena   Kochhar  ...       Executive      100.0      1700.0\n",
              "2        102.0        Lex   De Haan  ...       Executive      100.0      1700.0\n",
              "3        103.0  Alexander    Hunold  ...              IT      103.0      1400.0\n",
              "4        104.0      Bruce     Ernst  ...              IT      103.0      1400.0\n",
              "\n",
              "[5 rows x 15 columns]"
            ]
          },
          "metadata": {
            "tags": []
          },
          "execution_count": 31
        }
      ]
    },
    {
      "cell_type": "markdown",
      "metadata": {
        "id": "D-z56MKatXcG"
      },
      "source": [
        "# **Update Table**"
      ]
    },
    {
      "cell_type": "code",
      "metadata": {
        "colab": {
          "base_uri": "https://localhost:8080/"
        },
        "id": "JvWWVVwDsbqv",
        "outputId": "a0c903d8-5f4b-4f9e-ad54-d1a050f0f2b9"
      },
      "source": [
        "conn = psycopg2.connect(\n",
        "        host = \"digitalskoladb.c04me33o8tni.ap-southeast-1.rds.amazonaws.com\",\n",
        "        port = 5432,\n",
        "        database= \"sandbox\",\n",
        "        user = \"group_a\",\n",
        "        password = \"hZrJQJ8RMttts9VZnUYZX93pr\")\n",
        "\n",
        "#creating object using the cursor method\n",
        "cursor = conn.cursor()\n",
        "\n",
        "print('Data sebelum diupdate')\n",
        "sql = '''\n",
        "      select * from sandbox.batch_2.bus\n",
        "'''\n",
        "cursor.execute(sql)\n",
        "print(cursor.fetchall())\n",
        "\n",
        "\n",
        "print('Data sesudah diupdate')\n",
        "sql = '''\n",
        "      update sandbox.batch_2.bus\n",
        "      set id = 100, origin = 'Medan', destination = 'Bandung', time = '10:00'\n",
        "      where id = 100 \n",
        "    ''' #command Update untuk memperbaharui isi table\n",
        "cursor.execute(sql)\n",
        "\n",
        "sql = '''\n",
        "      select * from sandbox.batch_2.bus\n",
        "''' #Command select untuk memilih tabel yang akan dieksekusi\n",
        "cursor.execute(sql)\n",
        "print(cursor.fetchall())\n",
        "\n",
        "conn.commit()\n",
        "\n",
        "conn.close()"
      ],
      "execution_count": null,
      "outputs": [
        {
          "output_type": "stream",
          "text": [
            "Data sebelum diupdate\n",
            "[(100, 'Jakarta', 'Bandung', datetime.time(10, 0)), (200, 'Jakarta', 'Palembang', datetime.time(11, 0)), (300, 'Jakarta', 'Jogja', datetime.time(12, 0))]\n",
            "Data sesudah diupdate\n",
            "[(200, 'Jakarta', 'Palembang', datetime.time(11, 0)), (300, 'Jakarta', 'Jogja', datetime.time(12, 0)), (100, 'Medan', 'Bandung', datetime.time(10, 0))]\n"
          ],
          "name": "stdout"
        }
      ]
    },
    {
      "cell_type": "markdown",
      "metadata": {
        "id": "UbJBHxTkvRkb"
      },
      "source": [
        "# **Delete Data**"
      ]
    },
    {
      "cell_type": "code",
      "metadata": {
        "colab": {
          "base_uri": "https://localhost:8080/"
        },
        "id": "O7vR-7--uvMQ",
        "outputId": "bd8fd9ee-5f4f-4f10-fb45-69d7bf94224c"
      },
      "source": [
        "conn = psycopg2.connect(\n",
        "        host = \"digitalskoladb.c04me33o8tni.ap-southeast-1.rds.amazonaws.com\",\n",
        "        port = 5432,\n",
        "        database= \"sandbox\",\n",
        "        user = \"group_a\",\n",
        "        password = \"hZrJQJ8RMttts9VZnUYZX93pr\")\n",
        "\n",
        "#creating object using the cursor method\n",
        "cursor = conn.cursor()\n",
        "\n",
        "print('Data sebelum didelete')\n",
        "sql = '''\n",
        "      select * from sandbox.batch_2.bus\n",
        "'''\n",
        "cursor.execute(sql)\n",
        "print(cursor.fetchall())\n",
        "\n",
        "print('Data sesudah didelete')\n",
        "sql = '''\n",
        "      delete from sandbox.batch_2.bus where id = 100\n",
        "    ''' #command delete untuk menghapus isi table yang dipilih\n",
        "cursor.execute(sql)\n",
        "\n",
        "sql = '''\n",
        "      select * from sandbox.batch_2.bus\n",
        "'''\n",
        "cursor.execute(sql)\n",
        "print(cursor.fetchall())\n",
        "\n",
        "conn.commit()\n",
        "\n",
        "conn.close()"
      ],
      "execution_count": null,
      "outputs": [
        {
          "output_type": "stream",
          "text": [
            "Data sebelum didelete\n",
            "[(200, 'Jakarta', 'Palembang', datetime.time(11, 0)), (300, 'Jakarta', 'Jogja', datetime.time(12, 0)), (100, 'Medan', 'Bandung', datetime.time(10, 0))]\n",
            "Data sesudah didelete\n",
            "[(200, 'Jakarta', 'Palembang', datetime.time(11, 0)), (300, 'Jakarta', 'Jogja', datetime.time(12, 0))]\n"
          ],
          "name": "stdout"
        }
      ]
    },
    {
      "cell_type": "markdown",
      "metadata": {
        "id": "DegPQH8CvQvE"
      },
      "source": [
        "# **Drop Table**"
      ]
    },
    {
      "cell_type": "code",
      "metadata": {
        "colab": {
          "base_uri": "https://localhost:8080/"
        },
        "id": "0gj6m9zPv68z",
        "outputId": "deabd176-8d97-4494-a9f3-ca8fdb205db2"
      },
      "source": [
        "conn = psycopg2.connect(\n",
        "        host = \"digitalskoladb.c04me33o8tni.ap-southeast-1.rds.amazonaws.com\",\n",
        "        port = 5432,\n",
        "        database= \"sandbox\",\n",
        "        user = \"group_a\",\n",
        "        password = \"hZrJQJ8RMttts9VZnUYZX93pr\")\n",
        "\n",
        "cursor = conn.cursor()\n",
        "\n",
        "sql = '''\n",
        "      drop table sandbox.batch_2.bus\n",
        "''' #command drop untuk menghapus table\n",
        "\n",
        "cursor.execute(sql)\n",
        "print(\"Table sudah dihapus\")\n",
        "\n",
        "conn.commit()\n",
        "\n",
        "conn.close()"
      ],
      "execution_count": null,
      "outputs": [
        {
          "output_type": "stream",
          "text": [
            "Table sudah dihapus\n"
          ],
          "name": "stdout"
        }
      ]
    },
    {
      "cell_type": "markdown",
      "metadata": {
        "id": "eZJJNhMzxgby"
      },
      "source": [
        "# **Cara Query dari CSV**"
      ]
    },
    {
      "cell_type": "code",
      "metadata": {
        "colab": {
          "base_uri": "https://localhost:8080/"
        },
        "id": "RRZzjEWPwSij",
        "outputId": "60b02a45-91a4-42bf-d2fe-2672e2d405e2"
      },
      "source": [
        "!pip install sqldf\n",
        "import sqldf\n",
        "import pandas as pd"
      ],
      "execution_count": null,
      "outputs": [
        {
          "output_type": "stream",
          "text": [
            "Collecting sqldf\n",
            "  Downloading https://files.pythonhosted.org/packages/60/4b/1a9f9f65bcc7cd8d724c700f469f9bbe3e796b3543e0d346e3e352a283d7/sqldf-0.4.2-py3-none-any.whl\n",
            "Installing collected packages: sqldf\n",
            "Successfully installed sqldf-0.4.2\n"
          ],
          "name": "stdout"
        }
      ]
    },
    {
      "cell_type": "code",
      "metadata": {
        "id": "cqezWjCT4uwI"
      },
      "source": [
        "create table_testing_1\n",
        "\n",
        "as\n",
        "with \n",
        "var_1 as(\n",
        "    select *\n",
        "    from table 1\n",
        "),\n",
        "\n",
        "table_b as(\n",
        "    select *\n",
        "    from(\n",
        "        select *\n",
        "         from table_1\n",
        "    )\n",
        "    left join table 2\n",
        "),\n",
        "\n"
      ],
      "execution_count": null,
      "outputs": []
    },
    {
      "cell_type": "code",
      "metadata": {
        "id": "HTDiBxirxqHu"
      },
      "source": [
        "california_housing = pd.read_csv('sample_data/california_housing_test.csv') #membaca database california_Housing\n",
        "california_train = pd.read_csv('sample_data/california_housing_train.csv') #membaca database californi_train"
      ],
      "execution_count": null,
      "outputs": []
    },
    {
      "cell_type": "code",
      "metadata": {
        "colab": {
          "base_uri": "https://localhost:8080/",
          "height": 224
        },
        "id": "7gSGSEj3x4wZ",
        "outputId": "14048c9c-7015-4ed8-e3b8-c8017332368d"
      },
      "source": [
        "california_housing.head()"
      ],
      "execution_count": null,
      "outputs": [
        {
          "output_type": "execute_result",
          "data": {
            "text/html": [
              "<div>\n",
              "<style scoped>\n",
              "    .dataframe tbody tr th:only-of-type {\n",
              "        vertical-align: middle;\n",
              "    }\n",
              "\n",
              "    .dataframe tbody tr th {\n",
              "        vertical-align: top;\n",
              "    }\n",
              "\n",
              "    .dataframe thead th {\n",
              "        text-align: right;\n",
              "    }\n",
              "</style>\n",
              "<table border=\"1\" class=\"dataframe\">\n",
              "  <thead>\n",
              "    <tr style=\"text-align: right;\">\n",
              "      <th></th>\n",
              "      <th>longitude</th>\n",
              "      <th>latitude</th>\n",
              "      <th>housing_median_age</th>\n",
              "      <th>total_rooms</th>\n",
              "      <th>total_bedrooms</th>\n",
              "      <th>population</th>\n",
              "      <th>households</th>\n",
              "      <th>median_income</th>\n",
              "      <th>median_house_value</th>\n",
              "    </tr>\n",
              "  </thead>\n",
              "  <tbody>\n",
              "    <tr>\n",
              "      <th>0</th>\n",
              "      <td>-122.05</td>\n",
              "      <td>37.37</td>\n",
              "      <td>27.0</td>\n",
              "      <td>3885.0</td>\n",
              "      <td>661.0</td>\n",
              "      <td>1537.0</td>\n",
              "      <td>606.0</td>\n",
              "      <td>6.6085</td>\n",
              "      <td>344700.0</td>\n",
              "    </tr>\n",
              "    <tr>\n",
              "      <th>1</th>\n",
              "      <td>-118.30</td>\n",
              "      <td>34.26</td>\n",
              "      <td>43.0</td>\n",
              "      <td>1510.0</td>\n",
              "      <td>310.0</td>\n",
              "      <td>809.0</td>\n",
              "      <td>277.0</td>\n",
              "      <td>3.5990</td>\n",
              "      <td>176500.0</td>\n",
              "    </tr>\n",
              "    <tr>\n",
              "      <th>2</th>\n",
              "      <td>-117.81</td>\n",
              "      <td>33.78</td>\n",
              "      <td>27.0</td>\n",
              "      <td>3589.0</td>\n",
              "      <td>507.0</td>\n",
              "      <td>1484.0</td>\n",
              "      <td>495.0</td>\n",
              "      <td>5.7934</td>\n",
              "      <td>270500.0</td>\n",
              "    </tr>\n",
              "    <tr>\n",
              "      <th>3</th>\n",
              "      <td>-118.36</td>\n",
              "      <td>33.82</td>\n",
              "      <td>28.0</td>\n",
              "      <td>67.0</td>\n",
              "      <td>15.0</td>\n",
              "      <td>49.0</td>\n",
              "      <td>11.0</td>\n",
              "      <td>6.1359</td>\n",
              "      <td>330000.0</td>\n",
              "    </tr>\n",
              "    <tr>\n",
              "      <th>4</th>\n",
              "      <td>-119.67</td>\n",
              "      <td>36.33</td>\n",
              "      <td>19.0</td>\n",
              "      <td>1241.0</td>\n",
              "      <td>244.0</td>\n",
              "      <td>850.0</td>\n",
              "      <td>237.0</td>\n",
              "      <td>2.9375</td>\n",
              "      <td>81700.0</td>\n",
              "    </tr>\n",
              "  </tbody>\n",
              "</table>\n",
              "</div>"
            ],
            "text/plain": [
              "   longitude  latitude  ...  median_income  median_house_value\n",
              "0    -122.05     37.37  ...         6.6085            344700.0\n",
              "1    -118.30     34.26  ...         3.5990            176500.0\n",
              "2    -117.81     33.78  ...         5.7934            270500.0\n",
              "3    -118.36     33.82  ...         6.1359            330000.0\n",
              "4    -119.67     36.33  ...         2.9375             81700.0\n",
              "\n",
              "[5 rows x 9 columns]"
            ]
          },
          "metadata": {
            "tags": []
          },
          "execution_count": 38
        }
      ]
    },
    {
      "cell_type": "code",
      "metadata": {
        "id": "9OCbZRpyx6iD"
      },
      "source": [
        "sql = '''\n",
        "      select a.longitude longitude_a, a.latitude, b.longitude as longitude_b\n",
        "      from california_housing as a\n",
        "      join california_train as b using(longitude) -- on a.longitude = b.longitude\n",
        "''' #memilih beberapa kolom dari California_Housing untuk digabungkan/Join dengan California Train yang diletakan di kiri"
      ],
      "execution_count": null,
      "outputs": []
    },
    {
      "cell_type": "code",
      "metadata": {
        "id": "E40luaGOyId6"
      },
      "source": [
        "df = sqldf.run(sql)"
      ],
      "execution_count": null,
      "outputs": []
    },
    {
      "cell_type": "code",
      "metadata": {
        "colab": {
          "base_uri": "https://localhost:8080/",
          "height": 419
        },
        "id": "EXIQAG2myOFU",
        "outputId": "898ccc7b-96da-48fb-c919-3a11f6fd177b"
      },
      "source": [
        "df"
      ],
      "execution_count": null,
      "outputs": [
        {
          "output_type": "execute_result",
          "data": {
            "text/html": [
              "<div>\n",
              "<style scoped>\n",
              "    .dataframe tbody tr th:only-of-type {\n",
              "        vertical-align: middle;\n",
              "    }\n",
              "\n",
              "    .dataframe tbody tr th {\n",
              "        vertical-align: top;\n",
              "    }\n",
              "\n",
              "    .dataframe thead th {\n",
              "        text-align: right;\n",
              "    }\n",
              "</style>\n",
              "<table border=\"1\" class=\"dataframe\">\n",
              "  <thead>\n",
              "    <tr style=\"text-align: right;\">\n",
              "      <th></th>\n",
              "      <th>longitude_a</th>\n",
              "      <th>latitude</th>\n",
              "      <th>longitude_b</th>\n",
              "    </tr>\n",
              "  </thead>\n",
              "  <tbody>\n",
              "    <tr>\n",
              "      <th>0</th>\n",
              "      <td>-122.05</td>\n",
              "      <td>37.37</td>\n",
              "      <td>-122.05</td>\n",
              "    </tr>\n",
              "    <tr>\n",
              "      <th>1</th>\n",
              "      <td>-122.05</td>\n",
              "      <td>37.37</td>\n",
              "      <td>-122.05</td>\n",
              "    </tr>\n",
              "    <tr>\n",
              "      <th>2</th>\n",
              "      <td>-122.05</td>\n",
              "      <td>37.37</td>\n",
              "      <td>-122.05</td>\n",
              "    </tr>\n",
              "    <tr>\n",
              "      <th>3</th>\n",
              "      <td>-122.05</td>\n",
              "      <td>37.37</td>\n",
              "      <td>-122.05</td>\n",
              "    </tr>\n",
              "    <tr>\n",
              "      <th>4</th>\n",
              "      <td>-122.05</td>\n",
              "      <td>37.37</td>\n",
              "      <td>-122.05</td>\n",
              "    </tr>\n",
              "    <tr>\n",
              "      <th>...</th>\n",
              "      <td>...</td>\n",
              "      <td>...</td>\n",
              "      <td>...</td>\n",
              "    </tr>\n",
              "    <tr>\n",
              "      <th>152545</th>\n",
              "      <td>-119.63</td>\n",
              "      <td>34.42</td>\n",
              "      <td>-119.63</td>\n",
              "    </tr>\n",
              "    <tr>\n",
              "      <th>152546</th>\n",
              "      <td>-119.63</td>\n",
              "      <td>34.42</td>\n",
              "      <td>-119.63</td>\n",
              "    </tr>\n",
              "    <tr>\n",
              "      <th>152547</th>\n",
              "      <td>-119.63</td>\n",
              "      <td>34.42</td>\n",
              "      <td>-119.63</td>\n",
              "    </tr>\n",
              "    <tr>\n",
              "      <th>152548</th>\n",
              "      <td>-119.63</td>\n",
              "      <td>34.42</td>\n",
              "      <td>-119.63</td>\n",
              "    </tr>\n",
              "    <tr>\n",
              "      <th>152549</th>\n",
              "      <td>-119.63</td>\n",
              "      <td>34.42</td>\n",
              "      <td>-119.63</td>\n",
              "    </tr>\n",
              "  </tbody>\n",
              "</table>\n",
              "<p>152550 rows × 3 columns</p>\n",
              "</div>"
            ],
            "text/plain": [
              "        longitude_a  latitude  longitude_b\n",
              "0           -122.05     37.37      -122.05\n",
              "1           -122.05     37.37      -122.05\n",
              "2           -122.05     37.37      -122.05\n",
              "3           -122.05     37.37      -122.05\n",
              "4           -122.05     37.37      -122.05\n",
              "...             ...       ...          ...\n",
              "152545      -119.63     34.42      -119.63\n",
              "152546      -119.63     34.42      -119.63\n",
              "152547      -119.63     34.42      -119.63\n",
              "152548      -119.63     34.42      -119.63\n",
              "152549      -119.63     34.42      -119.63\n",
              "\n",
              "[152550 rows x 3 columns]"
            ]
          },
          "metadata": {
            "tags": []
          },
          "execution_count": 47
        }
      ]
    },
    {
      "cell_type": "code",
      "metadata": {
        "id": "GxmNQogc6RJj"
      },
      "source": [
        ""
      ],
      "execution_count": null,
      "outputs": []
    }
  ]
}