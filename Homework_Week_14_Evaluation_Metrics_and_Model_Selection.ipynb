{
  "nbformat": 4,
  "nbformat_minor": 0,
  "metadata": {
    "colab": {
      "name": "Homework 2 - Evaluation Metrics and Model Selection - Rama Rossali.ipynb",
      "provenance": []
    },
    "kernelspec": {
      "name": "python3",
      "display_name": "Python 3"
    },
    "language_info": {
      "name": "python"
    }
  },
  "cells": [
    {
      "cell_type": "markdown",
      "metadata": {
        "id": "baPqwA8F-1xo"
      },
      "source": [
        "# import necessary packages"
      ]
    },
    {
      "cell_type": "code",
      "metadata": {
        "id": "g8N9PhZm4XbF"
      },
      "source": [
        "import numpy as np\n",
        "import pandas as pd\n",
        "import matplotlib.pyplot as plt\n",
        "import seaborn as sns\n",
        "sns.set()"
      ],
      "execution_count": null,
      "outputs": []
    },
    {
      "cell_type": "markdown",
      "metadata": {
        "id": "EWZBQ1kn-ytp"
      },
      "source": [
        "# load the dataset"
      ]
    },
    {
      "cell_type": "code",
      "metadata": {
        "id": "1zMGUhJv-ulN"
      },
      "source": [
        "url = 'https://raw.githubusercontent.com/jbrownlee/Datasets/master/haberman.csv'\n",
        "list_cols = ['Age', \"Patient's Years\", \"N_positive_ax\", \"survival_status\"]\n",
        "cancer_df = pd.read_csv(url, names=list_cols)"
      ],
      "execution_count": null,
      "outputs": []
    },
    {
      "cell_type": "code",
      "metadata": {
        "colab": {
          "base_uri": "https://localhost:8080/",
          "height": 204
        },
        "id": "3k6bE4Qp4tya",
        "outputId": "7df33a0f-7b72-4936-9df9-686537d8a0d6"
      },
      "source": [
        "cancer_df.head()"
      ],
      "execution_count": null,
      "outputs": [
        {
          "output_type": "execute_result",
          "data": {
            "text/html": [
              "<div>\n",
              "<style scoped>\n",
              "    .dataframe tbody tr th:only-of-type {\n",
              "        vertical-align: middle;\n",
              "    }\n",
              "\n",
              "    .dataframe tbody tr th {\n",
              "        vertical-align: top;\n",
              "    }\n",
              "\n",
              "    .dataframe thead th {\n",
              "        text-align: right;\n",
              "    }\n",
              "</style>\n",
              "<table border=\"1\" class=\"dataframe\">\n",
              "  <thead>\n",
              "    <tr style=\"text-align: right;\">\n",
              "      <th></th>\n",
              "      <th>Age</th>\n",
              "      <th>Patient's Years</th>\n",
              "      <th>N_positive_ax</th>\n",
              "      <th>survival_status</th>\n",
              "    </tr>\n",
              "  </thead>\n",
              "  <tbody>\n",
              "    <tr>\n",
              "      <th>0</th>\n",
              "      <td>30</td>\n",
              "      <td>64</td>\n",
              "      <td>1</td>\n",
              "      <td>1</td>\n",
              "    </tr>\n",
              "    <tr>\n",
              "      <th>1</th>\n",
              "      <td>30</td>\n",
              "      <td>62</td>\n",
              "      <td>3</td>\n",
              "      <td>1</td>\n",
              "    </tr>\n",
              "    <tr>\n",
              "      <th>2</th>\n",
              "      <td>30</td>\n",
              "      <td>65</td>\n",
              "      <td>0</td>\n",
              "      <td>1</td>\n",
              "    </tr>\n",
              "    <tr>\n",
              "      <th>3</th>\n",
              "      <td>31</td>\n",
              "      <td>59</td>\n",
              "      <td>2</td>\n",
              "      <td>1</td>\n",
              "    </tr>\n",
              "    <tr>\n",
              "      <th>4</th>\n",
              "      <td>31</td>\n",
              "      <td>65</td>\n",
              "      <td>4</td>\n",
              "      <td>1</td>\n",
              "    </tr>\n",
              "  </tbody>\n",
              "</table>\n",
              "</div>"
            ],
            "text/plain": [
              "   Age  Patient's Years  N_positive_ax  survival_status\n",
              "0   30               64              1                1\n",
              "1   30               62              3                1\n",
              "2   30               65              0                1\n",
              "3   31               59              2                1\n",
              "4   31               65              4                1"
            ]
          },
          "metadata": {
            "tags": []
          },
          "execution_count": 45
        }
      ]
    },
    {
      "cell_type": "code",
      "metadata": {
        "colab": {
          "base_uri": "https://localhost:8080/"
        },
        "id": "wfgn3kTP5JEz",
        "outputId": "70b2a331-b29c-4e07-d971-ebfec4dd41e2"
      },
      "source": [
        "cancer_df['survival_status'].value_counts()"
      ],
      "execution_count": null,
      "outputs": [
        {
          "output_type": "execute_result",
          "data": {
            "text/plain": [
              "1    225\n",
              "2     81\n",
              "Name: survival_status, dtype: int64"
            ]
          },
          "metadata": {
            "tags": []
          },
          "execution_count": 47
        }
      ]
    },
    {
      "cell_type": "markdown",
      "metadata": {
        "id": "fK9HW9FQ9-5j"
      },
      "source": [
        "Bagi kedua data ini menjadi data training dan data test dengan test_size=0.25. (coding)"
      ]
    },
    {
      "cell_type": "code",
      "metadata": {
        "id": "RJnGdkhA5M6i"
      },
      "source": [
        "X = cancer_df.drop(['survival_status'], axis=1)\n",
        "y = cancer_df['survival_status']\n",
        "\n",
        "# spliting data\n",
        "from sklearn.model_selection import train_test_split\n",
        "\n",
        "X_train, X_test, y_train, y_test = train_test_split(X, y, test_size=0.25, random_state=21, stratify=y)"
      ],
      "execution_count": null,
      "outputs": []
    },
    {
      "cell_type": "markdown",
      "metadata": {
        "id": "D2Hcd4jfAVlu"
      },
      "source": [
        "Berapa score rata-rata dari model dengan teknik cross-validation tersebut?"
      ]
    },
    {
      "cell_type": "code",
      "metadata": {
        "id": "22a2vVvG-DIR"
      },
      "source": [
        "from sklearn.tree import DecisionTreeClassifier"
      ],
      "execution_count": null,
      "outputs": []
    },
    {
      "cell_type": "code",
      "metadata": {
        "colab": {
          "base_uri": "https://localhost:8080/"
        },
        "id": "oZdk8JPSDBn-",
        "outputId": "fde97d54-540a-40ac-859c-d0dd683bc72e"
      },
      "source": [
        "from sklearn.model_selection import cross_val_score,cross_validate\n",
        "from sklearn.model_selection import GridSearchCV\n",
        "from sklearn.metrics import confusion_matrix, classification_report\n",
        "model_lr = DecisionTreeClassifier(max_depth=3)\n",
        "cv_score = cross_val_score(model_lr, X,y, scoring='roc_auc', cv=5)\n",
        "print(\"Scores :\", cv_score.mean())"
      ],
      "execution_count": null,
      "outputs": [
        {
          "output_type": "stream",
          "text": [
            "Scores : 0.5602532679738562\n"
          ],
          "name": "stdout"
        }
      ]
    },
    {
      "cell_type": "markdown",
      "metadata": {
        "id": "qDAZwUc-AqRT"
      },
      "source": [
        "Prediksi data test dengan model yang telah kalian buat!"
      ]
    },
    {
      "cell_type": "code",
      "metadata": {
        "colab": {
          "base_uri": "https://localhost:8080/"
        },
        "id": "OiTeLg3RAhmG",
        "outputId": "242f2c18-f867-4c37-d3cd-25e3eab6f1ab"
      },
      "source": [
        "model_lr.fit(X_train, y_train)\n",
        "y_pred = model_lr.predict(X_test)\n",
        "acc_decission_tree = round(model_lr.score(X_train, y_train)* 100,2)\n",
        "print(round(acc_decission_tree, 2), \"%\")"
      ],
      "execution_count": null,
      "outputs": [
        {
          "output_type": "stream",
          "text": [
            "79.91 %\n"
          ],
          "name": "stdout"
        }
      ]
    },
    {
      "cell_type": "markdown",
      "metadata": {
        "id": "GfHzitOBA0AI"
      },
      "source": [
        "Bagaimana hasil confusion matrix dari hasil prediksi tersebut?"
      ]
    },
    {
      "cell_type": "code",
      "metadata": {
        "colab": {
          "base_uri": "https://localhost:8080/"
        },
        "id": "9FRXeMqvAw-r",
        "outputId": "1914245f-d48f-424c-e1ea-fa91ef32d88b"
      },
      "source": [
        "confusion_matrix(y_test, y_pred, labels=[1,2])"
      ],
      "execution_count": null,
      "outputs": [
        {
          "output_type": "execute_result",
          "data": {
            "text/plain": [
              "array([[47, 10],\n",
              "       [12,  8]])"
            ]
          },
          "metadata": {
            "tags": []
          },
          "execution_count": 43
        }
      ]
    },
    {
      "cell_type": "markdown",
      "metadata": {
        "id": "uG5rXLJqBAJm"
      },
      "source": [
        "Bagaimana classification report dari hasil prediksi tersebut?"
      ]
    },
    {
      "cell_type": "code",
      "metadata": {
        "colab": {
          "base_uri": "https://localhost:8080/"
        },
        "id": "l9dqz5NHA2rD",
        "outputId": "9126e529-53fd-4caa-e6f7-7447425afd04"
      },
      "source": [
        "print(classification_report(y_test, y_pred))"
      ],
      "execution_count": null,
      "outputs": [
        {
          "output_type": "stream",
          "text": [
            "              precision    recall  f1-score   support\n",
            "\n",
            "           1       0.80      0.82      0.81        57\n",
            "           2       0.44      0.40      0.42        20\n",
            "\n",
            "    accuracy                           0.71        77\n",
            "   macro avg       0.62      0.61      0.62        77\n",
            "weighted avg       0.71      0.71      0.71        77\n",
            "\n"
          ],
          "name": "stdout"
        }
      ]
    },
    {
      "cell_type": "markdown",
      "metadata": {
        "id": "69d1sCqoGVrh"
      },
      "source": [
        "Seberapa baik model anda dalam memprediksi seorang pasien mempunyai status positive? (1)\n",
        "\n",
        "model berjalan dengan cukup baik dengan hasil precision recall dan f1 score yang menunjukan tingkat keselamatan > 80%"
      ]
    },
    {
      "cell_type": "markdown",
      "metadata": {
        "id": "P_xxGJNvHr6e"
      },
      "source": [
        "Seberapa baik model anda dalam memprediksi seorang pasien mempunyai status negatif? \n",
        "\n",
        "model berjalan dengan cukup baik dengan hasil precision recall dan f1 score yang menunjukan tingkat kematian < 44%"
      ]
    }
  ]
}