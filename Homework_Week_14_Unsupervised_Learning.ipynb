{
  "nbformat": 4,
  "nbformat_minor": 0,
  "metadata": {
    "colab": {
      "name": "Homework 1 - Unsupervised Learning - Rama Rossali.ipynb",
      "provenance": []
    },
    "kernelspec": {
      "name": "python3",
      "display_name": "Python 3"
    },
    "language_info": {
      "name": "python"
    }
  },
  "cells": [
    {
      "cell_type": "markdown",
      "metadata": {
        "id": "WP3ygoDiS7Pj"
      },
      "source": [
        "##Agglomerative Clustering"
      ]
    },
    {
      "cell_type": "markdown",
      "metadata": {
        "id": "0iMJMTUuRnuY"
      },
      "source": [
        "https://www.kaggle.com/dhanyajothimani/basic-visualization-and-clustering-in-python"
      ]
    },
    {
      "cell_type": "markdown",
      "metadata": {
        "id": "ek8Bn1GIR-3-"
      },
      "source": [
        "Peringkat dan skor World Happiness Report menurut negara.\n",
        "\n",
        "Kategori Berdasarkan : Negara, Wilayah, Peringkat Kebahagiaan, Skor Kebahagiaan, Standart Error, Ekonomi PDB per Kapita, Keluarga, Harapan Hidup Kesehatan, Kebebasan, Kedermawanan, Kepercayaan.. Pemerintah, Korupsi, dan Distopia. Residual.\n",
        "\n",
        "Tidak ada yang perlu ditingkatkan.\n",
        "\n",
        "Alasan Kreator menggunakan Agglomerative Clustering karena mudah dipahami dan mudah dilakukan, dapat menampung banyak tipe data yang berbeda.\n",
        "\n",
        "menurut saya pribadi untuk dataset ini sudah bagus dengan Agglomerative Clustering."
      ]
    },
    {
      "cell_type": "code",
      "metadata": {
        "id": "A5hi2255VxbG"
      },
      "source": [
        ""
      ],
      "execution_count": null,
      "outputs": []
    }
  ]
}